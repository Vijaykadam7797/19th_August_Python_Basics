{
 "cells": [
  {
   "cell_type": "markdown",
   "id": "07dbae48-f3c7-466c-81d3-fa6f858d883b",
   "metadata": {},
   "source": [
    "### TOPIC: Python Basics Variable"
   ]
  },
  {
   "cell_type": "markdown",
   "id": "b3e6f812-5af3-4bfc-92d0-fae7e692847d",
   "metadata": {
    "tags": []
   },
   "source": [
    "#### 1. Declare two variables, `x` and `y`, and assign them integer values. Swap the values of these variables without using any temporary variable.\n"
   ]
  },
  {
   "cell_type": "code",
   "execution_count": 102,
   "id": "e896609a-d5d8-4a8b-90ba-197f59c9de4a",
   "metadata": {},
   "outputs": [
    {
     "name": "stdout",
     "output_type": "stream",
     "text": [
      "x: 75\n",
      "y: 15\n"
     ]
    }
   ],
   "source": [
    "#variable\n",
    "x = 15\n",
    "y = 75\n",
    "\n",
    "#swapping values\n",
    "x, y = y, x\n",
    "\n",
    "#output\n",
    "print(\"x:\", x)\n",
    "print(\"y:\", y)"
   ]
  },
  {
   "cell_type": "markdown",
   "id": "1f74a579-af6f-4a50-a03e-92e659f7ff5d",
   "metadata": {},
   "source": [
    "#### 2 : Create a program that calculates the area of a rectangle. Take the length and width as inputs from the user and store them in variables. Calculate and display the area."
   ]
  },
  {
   "cell_type": "code",
   "execution_count": 104,
   "id": "8c833cd8-9901-4477-9c37-4e8a5250ff51",
   "metadata": {},
   "outputs": [
    {
     "name": "stdout",
     "output_type": "stream",
     "text": [
      "Area of the Rectangle Formula\n",
      "\n"
     ]
    },
    {
     "name": "stdin",
     "output_type": "stream",
     "text": [
      "Enter length of Rectangle:  15\n",
      "Enter Width of Rectangle:  25\n"
     ]
    },
    {
     "name": "stdout",
     "output_type": "stream",
     "text": [
      "\n",
      "Area of the Rectangle is = 375.0\n"
     ]
    }
   ],
   "source": [
    "#Input\n",
    "print (\"Area of the Rectangle Formula\\n\")# is = \",area)\n",
    "l = float(input(\"Enter length of Rectangle: \"))\n",
    "w = float(input(\"Enter Width of Rectangle: \"))\n",
    "\n",
    "#logic\n",
    "area = l * w\n",
    "\n",
    "#output\n",
    "print (\"\\nArea of the Rectangle is =\",area)"
   ]
  },
  {
   "cell_type": "markdown",
   "id": "0a7451bc-5712-4b98-bd50-931c1ac0511e",
   "metadata": {},
   "source": [
    "#### 3 : Write a Python program that converts temperature from Celsius to Fahrenheit. Take the temperature in Celsius as input, store it in a variable, convert it to Fahrenheit, and display the result.\n"
   ]
  },
  {
   "cell_type": "code",
   "execution_count": 105,
   "id": "9d10405c-59f7-4357-ae04-f762413771af",
   "metadata": {},
   "outputs": [
    {
     "name": "stdout",
     "output_type": "stream",
     "text": [
      "Temperature Conversion from Celsius to Fahrenheit \n",
      "\n"
     ]
    },
    {
     "name": "stdin",
     "output_type": "stream",
     "text": [
      "Enter Temperature in Celsius: 24\n"
     ]
    },
    {
     "name": "stdout",
     "output_type": "stream",
     "text": [
      "\n",
      "Temperature in Fahrenheit: 75.2\n"
     ]
    }
   ],
   "source": [
    "#Input\n",
    "print (\"Temperature Conversion from Celsius to Fahrenheit \\n\")\n",
    "Tc= float(input(\"Enter Temperature in Celsius:\"))\n",
    "\n",
    "#logic\n",
    "Tf = (9/5*Tc)+32\n",
    "\n",
    "#output\n",
    "print (\"\\nTemperature in Fahrenheit:\",Tf)\n"
   ]
  },
  {
   "cell_type": "code",
   "execution_count": null,
   "id": "2391aa39-831c-4c8c-b8c9-a498408de865",
   "metadata": {},
   "outputs": [],
   "source": []
  },
  {
   "cell_type": "markdown",
   "id": "76fa8e97-e3fe-4a16-bd69-57b18334639f",
   "metadata": {},
   "source": [
    "### TOPIC: String Based Questions"
   ]
  },
  {
   "cell_type": "markdown",
   "id": "c33ce6b2-34a8-4a3e-b4a1-338f5fd87826",
   "metadata": {},
   "source": [
    "#### 1. Write a Python program that takes a string as input and prints the length of the string."
   ]
  },
  {
   "cell_type": "code",
   "execution_count": 106,
   "id": "7013dfb6-49bb-4f10-852c-398f0266fbfb",
   "metadata": {},
   "outputs": [
    {
     "name": "stdin",
     "output_type": "stream",
     "text": [
      "Enter a String Input: vijay\n"
     ]
    },
    {
     "name": "stdout",
     "output_type": "stream",
     "text": [
      "\n",
      "Length of input string is: 5\n"
     ]
    }
   ],
   "source": [
    "#input \n",
    "a = str(input(\"Enter a String Input:\"))\n",
    "\n",
    "print(\"\\nLength of input string is:\",len(a))"
   ]
  },
  {
   "cell_type": "code",
   "execution_count": null,
   "id": "ad82bb8e-6943-460a-b785-9f24bf193915",
   "metadata": {},
   "outputs": [],
   "source": []
  },
  {
   "cell_type": "markdown",
   "id": "e599c77d-f92b-4b51-bad1-c54a5829d9ec",
   "metadata": {},
   "source": [
    "#### 2. Create a program that takes a sentence from the user and counts the number of vowels (a, e, i, o, u) in the string."
   ]
  },
  {
   "cell_type": "code",
   "execution_count": 107,
   "id": "35e876a8-4718-4576-9066-d96d3df89f2d",
   "metadata": {},
   "outputs": [
    {
     "name": "stdin",
     "output_type": "stream",
     "text": [
      "Enter a String Input: Aakash\n"
     ]
    },
    {
     "name": "stdout",
     "output_type": "stream",
     "text": [
      "Total number of vowels in Aakash is: 3\n"
     ]
    }
   ],
   "source": [
    "#input \n",
    "a = str(input(\"Enter a String Input:\"))\n",
    "vowel = \"AEIOUaeiou\"\n",
    "\n",
    "#logic\n",
    "b=0\n",
    "for x in a:\n",
    "    if x in vowel:\n",
    "        b=b+1        \n",
    "    else :pass\n",
    "\n",
    "#output\n",
    "print(\"Total number of vowels in\",a, \"is:\",b)   "
   ]
  },
  {
   "cell_type": "markdown",
   "id": "e0098719-7140-4989-a5f5-e656ee384b86",
   "metadata": {},
   "source": [
    "#### 3. Given a string, reverse the order of characters using string slicing and print the reversed string."
   ]
  },
  {
   "cell_type": "code",
   "execution_count": 92,
   "id": "6ad534df-6265-4b1c-aa82-4d5d960296c8",
   "metadata": {},
   "outputs": [
    {
     "name": "stdin",
     "output_type": "stream",
     "text": [
      "Enter a string:  pwskills\n"
     ]
    },
    {
     "name": "stdout",
     "output_type": "stream",
     "text": [
      "\n",
      "Reversed string: sllikswp\n"
     ]
    }
   ],
   "source": [
    "#input \n",
    "string = input(\"Enter a string: \")\n",
    "\n",
    "# logic\n",
    "string_1 = string[::-1]\n",
    "\n",
    "# output\n",
    "print(\"\\nReversed string:\", string_1)"
   ]
  },
  {
   "cell_type": "markdown",
   "id": "d0a1174b-7b6d-4683-a650-4f76cddbced1",
   "metadata": {},
   "source": [
    "#### 4. Write a program that takes a string as input and checks if it is a palindrome (reads the same forwards and backwards)."
   ]
  },
  {
   "cell_type": "code",
   "execution_count": 109,
   "id": "28c6f022-ae57-4c8d-97bc-83a9381709d7",
   "metadata": {},
   "outputs": [
    {
     "name": "stdin",
     "output_type": "stream",
     "text": [
      "Enter a string:  13531\n"
     ]
    },
    {
     "name": "stdout",
     "output_type": "stream",
     "text": [
      "\n",
      "Entered value is Palindrome\n"
     ]
    }
   ],
   "source": [
    "#input\n",
    "string = input(\"Enter a string: \")\n",
    "\n",
    "# logic\n",
    "string_1 = string[::-1]\n",
    "\n",
    "if string == string_1:\n",
    "    print(\"\\nEntered value is Palindrome\")  #output\n",
    "else : \n",
    "    print (\"\\n Entered value is not palindrome\")\n"
   ]
  },
  {
   "cell_type": "markdown",
   "id": "5487a9f6-1e5a-43c1-9d8b-a667866cb0a5",
   "metadata": {},
   "source": [
    "#### 5. Create a program that takes a string as input and removes all the spaces from it. Print the modified string without spaces."
   ]
  },
  {
   "cell_type": "code",
   "execution_count": 101,
   "id": "4b100042-4943-40eb-8dd6-e028cf9f22d8",
   "metadata": {},
   "outputs": [
    {
     "name": "stdin",
     "output_type": "stream",
     "text": [
      "Enter a string:  Raju Ban Gaya Gentle man\n"
     ]
    },
    {
     "name": "stdout",
     "output_type": "stream",
     "text": [
      "Modified string:  RajuBanGayaGentleman\n"
     ]
    }
   ],
   "source": [
    "#input\n",
    "string = input(\"Enter a string: \")\n",
    "\n",
    "#logic\n",
    "string_1 = string.replace(\" \",\"\")\n",
    "\n",
    "#output\n",
    "print(\"\\nModified string: \",string_1)\n"
   ]
  },
  {
   "cell_type": "code",
   "execution_count": null,
   "id": "c43e9ace-fb9f-4e36-a976-c89d69af56df",
   "metadata": {},
   "outputs": [],
   "source": []
  }
 ],
 "metadata": {
  "kernelspec": {
   "display_name": "Python 3 (ipykernel)",
   "language": "python",
   "name": "python3"
  },
  "language_info": {
   "codemirror_mode": {
    "name": "ipython",
    "version": 3
   },
   "file_extension": ".py",
   "mimetype": "text/x-python",
   "name": "python",
   "nbconvert_exporter": "python",
   "pygments_lexer": "ipython3",
   "version": "3.10.8"
  }
 },
 "nbformat": 4,
 "nbformat_minor": 5
}
